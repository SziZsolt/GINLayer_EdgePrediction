{
 "cells": [
  {
   "cell_type": "code",
   "execution_count": 20,
   "metadata": {},
   "outputs": [],
   "source": [
    "import torch\n",
    "import torch_geometric as pyg\n",
    "import torch.nn as nn\n",
    "import torch_geometric.nn as gnn\n",
    "from torch_geometric.datasets import Amazon\n",
    "from torch_geometric.utils import train_test_split_edges, add_self_loops"
   ]
  },
  {
   "cell_type": "code",
   "execution_count": 3,
   "metadata": {},
   "outputs": [
    {
     "name": "stderr",
     "output_type": "stream",
     "text": [
      "c:\\Users\\szige\\AppData\\Local\\Programs\\Python\\Python311\\Lib\\site-packages\\torch_geometric\\data\\dataset.py:238: FutureWarning: You are using `torch.load` with `weights_only=False` (the current default value), which uses the default pickle module implicitly. It is possible to construct malicious pickle data which will execute arbitrary code during unpickling (See https://github.com/pytorch/pytorch/blob/main/SECURITY.md#untrusted-models for more details). In a future release, the default value for `weights_only` will be flipped to `True`. This limits the functions that could be executed during unpickling. Arbitrary objects will no longer be allowed to be loaded via this mode unless they are explicitly allowlisted by the user via `torch.serialization.add_safe_globals`. We recommend you start setting `weights_only=True` for any use case where you don't have full control of the loaded file. Please open an issue on GitHub for any issues related to this experimental feature.\n",
      "  if osp.exists(f) and torch.load(f) != _repr(self.pre_transform):\n",
      "c:\\Users\\szige\\AppData\\Local\\Programs\\Python\\Python311\\Lib\\site-packages\\torch_geometric\\data\\dataset.py:246: FutureWarning: You are using `torch.load` with `weights_only=False` (the current default value), which uses the default pickle module implicitly. It is possible to construct malicious pickle data which will execute arbitrary code during unpickling (See https://github.com/pytorch/pytorch/blob/main/SECURITY.md#untrusted-models for more details). In a future release, the default value for `weights_only` will be flipped to `True`. This limits the functions that could be executed during unpickling. Arbitrary objects will no longer be allowed to be loaded via this mode unless they are explicitly allowlisted by the user via `torch.serialization.add_safe_globals`. We recommend you start setting `weights_only=True` for any use case where you don't have full control of the loaded file. Please open an issue on GitHub for any issues related to this experimental feature.\n",
      "  if osp.exists(f) and torch.load(f) != _repr(self.pre_filter):\n",
      "c:\\Users\\szige\\AppData\\Local\\Programs\\Python\\Python311\\Lib\\site-packages\\torch_geometric\\io\\fs.py:215: FutureWarning: You are using `torch.load` with `weights_only=False` (the current default value), which uses the default pickle module implicitly. It is possible to construct malicious pickle data which will execute arbitrary code during unpickling (See https://github.com/pytorch/pytorch/blob/main/SECURITY.md#untrusted-models for more details). In a future release, the default value for `weights_only` will be flipped to `True`. This limits the functions that could be executed during unpickling. Arbitrary objects will no longer be allowed to be loaded via this mode unless they are explicitly allowlisted by the user via `torch.serialization.add_safe_globals`. We recommend you start setting `weights_only=True` for any use case where you don't have full control of the loaded file. Please open an issue on GitHub for any issues related to this experimental feature.\n",
      "  return torch.load(f, map_location)\n"
     ]
    }
   ],
   "source": [
    "amazon = Amazon('amazon', 'Computers')\n",
    "data = amazon[0]"
   ]
  },
  {
   "cell_type": "code",
   "execution_count": 4,
   "metadata": {},
   "outputs": [
    {
     "name": "stderr",
     "output_type": "stream",
     "text": [
      "c:\\Users\\szige\\AppData\\Local\\Programs\\Python\\Python311\\Lib\\site-packages\\torch_geometric\\deprecation.py:26: UserWarning: 'train_test_split_edges' is deprecated, use 'transforms.RandomLinkSplit' instead\n",
      "  warnings.warn(out)\n"
     ]
    },
    {
     "data": {
      "text/plain": [
       "Data(x=[13752, 767], y=[13752], val_pos_edge_index=[2, 12293], test_pos_edge_index=[2, 24586], train_pos_edge_index=[2, 417964], train_neg_adj_mask=[13752, 13752], val_neg_edge_index=[2, 12293], test_neg_edge_index=[2, 24586])"
      ]
     },
     "execution_count": 4,
     "metadata": {},
     "output_type": "execute_result"
    }
   ],
   "source": [
    "train_test_split_edges(data)"
   ]
  },
  {
   "cell_type": "code",
   "execution_count": 5,
   "metadata": {},
   "outputs": [
    {
     "data": {
      "text/plain": [
       "tensor([[    0,     0,     0,  ..., 13751, 13751, 13751],\n",
       "        [  507,  6551,  8210,  ..., 12479, 12751, 13019]])"
      ]
     },
     "execution_count": 5,
     "metadata": {},
     "output_type": "execute_result"
    }
   ],
   "source": [
    "data.train_pos_edge_index"
   ]
  },
  {
   "cell_type": "code",
   "execution_count": 6,
   "metadata": {},
   "outputs": [],
   "source": [
    "features = torch.tensor([\n",
    "    [1, 1, 1],\n",
    "    [2, 2, 2],\n",
    "    [3, 3, 3]\n",
    "], dtype=torch.float)\n",
    "\n",
    "edge_index = torch.tensor([\n",
    "    [0, 1, 2],\n",
    "    [2, 0, 1]\n",
    "])"
   ]
  },
  {
   "cell_type": "code",
   "execution_count": 7,
   "metadata": {},
   "outputs": [],
   "source": [
    "class GINLayer(gnn.MessagePassing):\n",
    "    def __init__(self, in_features: int, hidden_features: int, out_features: int, dropout: float) -> None:\n",
    "        super(GINLayer, self).__init__(aggr='add')\n",
    "        self.in_linear = nn.Linear(in_features, hidden_features)\n",
    "        self.out_linear = nn.Linear(hidden_features, out_features)\n",
    "        self.dropout = nn.Dropout(dropout)\n",
    "        self.layernorm = nn.LayerNorm(out_features)\n",
    "        self.skip = nn.Linear(in_features, out_features)\n",
    "\n",
    "    def forward(self, x: torch.Tensor, edge_index: torch.Tensor) -> torch.Tensor:\n",
    "        return self.propagate(edge_index, x=x) + self.skip(x)\n",
    "    \n",
    "    def message(self, x_j):\n",
    "        return self.in_linear(x_j)\n",
    "    \n",
    "    def update(self, aggr_out: torch.Tensor):\n",
    "        aggr_out = torch.relu(aggr_out)\n",
    "        aggr_out = self.dropout(aggr_out)\n",
    "        aggr_out = self.out_linear(aggr_out)\n",
    "        aggr_out = self.layernorm(aggr_out)\n",
    "        return aggr_out\n"
   ]
  },
  {
   "cell_type": "code",
   "execution_count": 28,
   "metadata": {},
   "outputs": [],
   "source": [
    "class GINLayer(gnn.MessagePassing):\n",
    "    def __init__(self, in_features: int, hidden_features: int, out_features: int):\n",
    "        super(GINLayer, self).__init__(aggr='add')\n",
    "        self.mlp_f = nn.Sequential(\n",
    "            nn.Linear(in_features, hidden_features),\n",
    "            nn.ReLU(),\n",
    "            nn.Linear(hidden_features, hidden_features)\n",
    "        )\n",
    "\n",
    "        self.mlp_o = nn.Sequential(\n",
    "            nn.Linear(hidden_features, hidden_features),\n",
    "            nn.ReLU(),\n",
    "            nn.Linear(hidden_features, out_features)\n",
    "        )\n",
    "        self.eps = nn.Parameter(torch.rand(size=(1,)))\n",
    "\n",
    "    def forward(self, x: torch.Tensor, edge_index: torch.Tensor):\n",
    "        edge_index, _ = add_self_loops(edge_index, num_nodes=x.shape[0])\n",
    "        out = self.propagate(edge_index=edge_index, x=x)\n",
    "        eps = (1 + self.eps)\n",
    "        out = eps * self.mlp_f(x) + out\n",
    "        out = self.mlp_o(out)\n",
    "        return out\n",
    "\n",
    "    def message(self, x_j: torch.Tensor):\n",
    "        return self.mlp_f(x_j)\n"
   ]
  },
  {
   "cell_type": "code",
   "execution_count": 29,
   "metadata": {},
   "outputs": [
    {
     "data": {
      "text/plain": [
       "torch.Size([3, 1])"
      ]
     },
     "execution_count": 29,
     "metadata": {},
     "output_type": "execute_result"
    }
   ],
   "source": [
    "gin = GINLayer(features.shape[-1], 16, 1)\n",
    "gin(features, edge_index).shape"
   ]
  },
  {
   "cell_type": "code",
   "execution_count": null,
   "metadata": {},
   "outputs": [],
   "source": [
    "class MyGNN(nn.Module):\n",
    "    def __init__(self, in_features: int, hidden_features: int, out_features: int, num_layers: int, dropout: float):\n",
    "        super(MyGNN, self).__init__()\n",
    "        self.dropout = dropout\n",
    "        self.layers = nn.ModuleList([])\n",
    "        self.layers.append(GINLayer(in_features, hidden_features, hidden_features, self.dropout))\n",
    "        for _ in range(num_layers - 1):\n",
    "            self.layers.append(GINLayer(hidden_features, hidden_features, hidden_features, self.dropout))\n",
    "\n",
    "    def forward(self, x: torch.Tensor, edge_index: torch.Tensor):\n",
    "        for layer in self.layers:\n",
    "            x = layer(x, edge_index)\n",
    "        return x"
   ]
  },
  {
   "cell_type": "code",
   "execution_count": null,
   "metadata": {},
   "outputs": [
    {
     "data": {
      "text/plain": [
       "tensor([[0.7909],\n",
       "        [1.2253],\n",
       "        [1.6598]], grad_fn=<AddBackward0>)"
      ]
     },
     "execution_count": 22,
     "metadata": {},
     "output_type": "execute_result"
    }
   ],
   "source": [
    "in_features = features.shape[-1]\n",
    "hidden_features = 8\n",
    "out_features = 1\n",
    "layer = GINLayer(in_features, hidden_features, out_features, 0.2)\n",
    "layer(features, edge_index)"
   ]
  },
  {
   "cell_type": "code",
   "execution_count": 23,
   "metadata": {},
   "outputs": [
    {
     "data": {
      "text/plain": [
       "tensor([[ 0.2428,  0.8061, -2.6719, -0.1753,  0.6900, -0.0668, -2.8138,  2.0833],\n",
       "        [-0.4139,  1.4587, -1.3732, -0.9616,  1.4975,  0.1412, -1.4935,  1.0271],\n",
       "        [-0.9229,  1.4200, -1.8686, -0.8225,  0.6138,  0.2466, -2.0225,  0.7368]],\n",
       "       grad_fn=<AddBackward0>)"
      ]
     },
     "execution_count": 23,
     "metadata": {},
     "output_type": "execute_result"
    }
   ],
   "source": [
    "model = MyGNN(in_features, hidden_features, out_features, 4, dropout=0.2)\n",
    "model(features, edge_index)"
   ]
  },
  {
   "cell_type": "code",
   "execution_count": 35,
   "metadata": {},
   "outputs": [
    {
     "data": {
      "text/plain": [
       "tensor([[1., 1., 1., 3., 3., 3.],\n",
       "        [2., 2., 2., 1., 1., 1.],\n",
       "        [3., 3., 3., 2., 2., 2.]])"
      ]
     },
     "execution_count": 35,
     "metadata": {},
     "output_type": "execute_result"
    }
   ],
   "source": [
    "src, dst = edge_index\n",
    "torch.cat([features[src], features[dst]], dim=-1)"
   ]
  }
 ],
 "metadata": {
  "kernelspec": {
   "display_name": "Python 3",
   "language": "python",
   "name": "python3"
  },
  "language_info": {
   "codemirror_mode": {
    "name": "ipython",
    "version": 3
   },
   "file_extension": ".py",
   "mimetype": "text/x-python",
   "name": "python",
   "nbconvert_exporter": "python",
   "pygments_lexer": "ipython3",
   "version": "3.11.4"
  }
 },
 "nbformat": 4,
 "nbformat_minor": 2
}
